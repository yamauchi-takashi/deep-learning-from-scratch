{
 "cells": [
  {
   "cell_type": "markdown",
   "id": "f48f0eaa-a6ce-4bd4-bdd5-62b35b169563",
   "metadata": {},
   "source": [
    "# MNIST"
   ]
  },
  {
   "cell_type": "markdown",
   "id": "8f1d91d4-05d1-42bd-9d87-7d0111e7d45b",
   "metadata": {},
   "source": [
    "## 宣言"
   ]
  },
  {
   "cell_type": "code",
   "execution_count": 1,
   "id": "ec574f41-f93c-4c21-890e-ee7b3b09e614",
   "metadata": {},
   "outputs": [],
   "source": [
    "import urllib.request\n",
    "import os\n",
    "import gzip\n",
    "import numpy as np"
   ]
  },
  {
   "cell_type": "markdown",
   "id": "d6b7404b-6ba4-4278-ae8d-60db2d19e488",
   "metadata": {},
   "source": [
    "## ファイルダウンロード"
   ]
  },
  {
   "cell_type": "code",
   "execution_count": 2,
   "id": "35a8a50c-1c1c-4e51-948f-fd2e81d614a0",
   "metadata": {},
   "outputs": [],
   "source": [
    "base_url = 'http://yann.lecun.com/exdb/mnist/'\n",
    "files = ['train-images-idx3-ubyte.gz', 'train-labels-idx1-ubyte.gz', 't10k-images-idx3-ubyte.gz', 't10k-labels-idx1-ubyte.gz']"
   ]
  },
  {
   "cell_type": "code",
   "execution_count": 5,
   "id": "d220a0c7-8772-46af-acef-68d930c5dee7",
   "metadata": {},
   "outputs": [],
   "source": [
    "download_dir = 'dataset'\n",
    "os.makedirs(download_dir, exist_ok=True)"
   ]
  },
  {
   "cell_type": "code",
   "execution_count": 6,
   "id": "0fe33483-df62-44f8-bb7e-2fe99e2ab64a",
   "metadata": {},
   "outputs": [],
   "source": [
    "for file in files:\n",
    "    url = base_url + file\n",
    "    save_path = os.path.join(download_dir, file)\n",
    "    urllib.request.urlretrieve(url, save_path)"
   ]
  },
  {
   "cell_type": "markdown",
   "id": "fd80910a-d6cb-4a0d-a578-b8d17f76f5e7",
   "metadata": {},
   "source": [
    "## 画像データの読み込み"
   ]
  },
  {
   "cell_type": "code",
   "execution_count": 17,
   "id": "588a7a2e-cf36-44b3-a67b-5101d4b0b31d",
   "metadata": {},
   "outputs": [
    {
     "name": "stdout",
     "output_type": "stream",
     "text": [
      "トレーニング画像の形状: (60000, 784)\n",
      "トレーニングラベルの形状: (60000,)\n",
      "テスト画像の形状: (10000, 784)\n",
      "テストラベルの形状: (10000,)\n"
     ]
    }
   ],
   "source": [
    "# 画像データを読み込む関数\n",
    "def load_images(filename):\n",
    "    with gzip.open(filename, 'rb') as file:\n",
    "        # マジックナンバーとヘッダー情報を読み込む\n",
    "        _ = file.read(4)\n",
    "        num_images = int.from_bytes(file.read(4), byteorder='big')\n",
    "        num_rows = int.from_bytes(file.read(4), byteorder='big')\n",
    "        num_cols = int.from_bytes(file.read(4), byteorder='big')\n",
    "        \n",
    "        # 画像データを読み込み\n",
    "        image_data = file.read()\n",
    "        \n",
    "        # バイトデータをNumPyの配列に変換\n",
    "        images = np.frombuffer(image_data, dtype=np.uint8)\n",
    "        images = images.reshape(num_images, num_rows*num_cols)\n",
    "        \n",
    "        return images\n",
    "\n",
    "# ラベルデータを読み込む関数\n",
    "def load_labels(filename):\n",
    "    with gzip.open(filename, 'rb') as file:\n",
    "        # マジックナンバーとヘッダー情報を読み込む\n",
    "        _ = file.read(4)\n",
    "        num_labels = int.from_bytes(file.read(4), byteorder='big')\n",
    "        \n",
    "        # ラベルデータを読み込み\n",
    "        label_data = file.read()\n",
    "        \n",
    "        # バイトデータをNumPyの配列に変換\n",
    "        labels = np.frombuffer(label_data, dtype=np.uint8)\n",
    "        \n",
    "        return labels\n",
    "\n",
    "# ファイルパスを指定してデータを読み込む\n",
    "train_images = load_images(download_dir + '/train-images-idx3-ubyte.gz')\n",
    "train_labels = load_labels(download_dir + '/train-labels-idx1-ubyte.gz')\n",
    "test_images = load_images(download_dir + '/t10k-images-idx3-ubyte.gz')\n",
    "test_labels = load_labels(download_dir + '/t10k-labels-idx1-ubyte.gz')\n",
    "\n",
    "# データの形状を確認\n",
    "print(\"トレーニング画像の形状:\", train_images.shape)\n",
    "print(\"トレーニングラベルの形状:\", train_labels.shape)\n",
    "print(\"テスト画像の形状:\", test_images.shape)\n",
    "print(\"テストラベルの形状:\", test_labels.shape)"
   ]
  },
  {
   "cell_type": "code",
   "execution_count": 15,
   "id": "484018ad-bb35-4045-a9f7-da6a6aa97758",
   "metadata": {},
   "outputs": [
    {
     "name": "stdout",
     "output_type": "stream",
     "text": [
      "(20, 28, 28)\n"
     ]
    }
   ],
   "source": [
    "import matplotlib.pyplot as plt\n",
    "\n",
    "images = test_images[:20]\n",
    "images = images.reshape(20, 28, 28)\n"
   ]
  }
 ],
 "metadata": {
  "kernelspec": {
   "display_name": "Python 3 (ipykernel)",
   "language": "python",
   "name": "python3"
  },
  "language_info": {
   "codemirror_mode": {
    "name": "ipython",
    "version": 3
   },
   "file_extension": ".py",
   "mimetype": "text/x-python",
   "name": "python",
   "nbconvert_exporter": "python",
   "pygments_lexer": "ipython3",
   "version": "3.11.4"
  }
 },
 "nbformat": 4,
 "nbformat_minor": 5
}
